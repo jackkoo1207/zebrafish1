{
 "cells": [
  {
   "cell_type": "code",
   "execution_count": 67,
   "id": "55639d68",
   "metadata": {},
   "outputs": [
    {
     "data": {
      "application/vnd.jupyter.widget-view+json": {
       "model_id": "142219cbe9304321a97e9a470bbae8bd",
       "version_major": 2,
       "version_minor": 0
      },
      "text/plain": [
       "Output()"
      ]
     },
     "metadata": {},
     "output_type": "display_data"
    },
    {
     "data": {
      "text/html": [
       "<pre style=\"white-space:pre;overflow-x:auto;line-height:normal;font-family:Menlo,'DejaVu Sans Mono',consolas,'Courier New',monospace\"></pre>\n"
      ],
      "text/plain": []
     },
     "metadata": {},
     "output_type": "display_data"
    }
   ],
   "source": [
    "import cv2\n",
    "import matplotlib.pyplot as plt\n",
    "import numpy as np\n",
    "from idtrackerai import ListOfBlobs\n",
    "from matplotlib.patches import Ellipse\n",
    "from scipy.interpolate import splev\n",
    "\n",
    "from fishmidline import get_spline\n",
    "NUM_FISH=20\n",
    "list_of_blobs = ListOfBlobs.load(str(NUM_FISH)+\".pickle\")\n",
    "\n"
   ]
  },
  {
   "cell_type": "code",
   "execution_count": 68,
   "id": "758cbb4d",
   "metadata": {},
   "outputs": [
    {
     "name": "stdout",
     "output_type": "stream",
     "text": [
      "19500\n"
     ]
    }
   ],
   "source": [
    "Data=np.load('data_npy/'+str(NUM_FISH)+'.npy')\n",
    "Tot_time=Data.shape[0]\n",
    "print(Tot_time)"
   ]
  },
  {
   "cell_type": "code",
   "execution_count": 69,
   "id": "29daaf39",
   "metadata": {},
   "outputs": [
    {
     "name": "stdout",
     "output_type": "stream",
     "text": [
      "Processing IDENTITY=1\n"
     ]
    },
    {
     "name": "stderr",
     "output_type": "stream",
     "text": [
      "/tmp/ipykernel_742812/3851140350.py:22: DeprecationWarning: Call to deprecated function (or staticmethod) bbox_in_frame_coordinates. (Use `bbox_corners` instead) -- Deprecated since version 6.0.0.\n",
      "  midline[frame_number,IDENTITY-1, :, 0] = midline_x+blob.bbox_in_frame_coordinates[0][0]\n",
      "/tmp/ipykernel_742812/3851140350.py:23: DeprecationWarning: Call to deprecated function (or staticmethod) bbox_in_frame_coordinates. (Use `bbox_corners` instead) -- Deprecated since version 6.0.0.\n",
      "  midline[frame_number,IDENTITY-1, :, 1] = midline_y+blob.bbox_in_frame_coordinates[0][1]\n"
     ]
    },
    {
     "name": "stdout",
     "output_type": "stream",
     "text": [
      "Processing IDENTITY=2\n",
      "Warning, no nose detected in a frame. The maximum is returned instead\n",
      "Skipping IDENTITY=2 in frame 4482 due to TypeError\n",
      "Skipping IDENTITY=2 in frame 5144 due to TypeError\n",
      "Processing IDENTITY=3\n",
      "Processing IDENTITY=4\n",
      "Processing IDENTITY=5\n",
      "Processing IDENTITY=6\n",
      "Processing IDENTITY=7\n",
      "Skipping IDENTITY=7 in frame 13361 due to TypeError\n",
      "Processing IDENTITY=8\n",
      "Processing IDENTITY=9\n",
      "Processing IDENTITY=10\n",
      "Processing IDENTITY=11\n",
      "Processing IDENTITY=12\n",
      "Processing IDENTITY=13\n",
      "Processing IDENTITY=14\n",
      "Processing IDENTITY=15\n",
      "Processing IDENTITY=16\n",
      "Skipping IDENTITY=16 in frame 11259 due to TypeError\n",
      "Processing IDENTITY=17\n",
      "Processing IDENTITY=18\n",
      "Processing IDENTITY=19\n",
      "Skipping IDENTITY=19 in frame 9501 due to TypeError\n",
      "Skipping IDENTITY=19 in frame 9504 due to TypeError\n",
      "Skipping IDENTITY=19 in frame 13361 due to TypeError\n",
      "Skipping IDENTITY=19 in frame 18997 due to TypeError\n",
      "Processing IDENTITY=20\n"
     ]
    }
   ],
   "source": [
    "n_points=3\n",
    "midline= np.zeros((Tot_time,NUM_FISH, n_points, 2), dtype=np.float32)\n",
    "for IDENTITY in range(1,NUM_FISH+1):\n",
    "    print(f\"Processing IDENTITY={IDENTITY}\")\n",
    "    for frame_number in range(Tot_time):\n",
    "        blobs_in_frame = list_of_blobs.blobs_in_video[frame_number]\n",
    "        try:\n",
    "            blob = [blob for blob in blobs_in_frame if IDENTITY in blob.final_identities][0]\n",
    "            try:\n",
    "                spline_params = get_spline(blob)\n",
    "            except TypeError:\n",
    "                print(f\"Skipping IDENTITY={IDENTITY} in frame {frame_number} due to TypeError\")\n",
    "                continue\n",
    "            spline_samples = np.linspace(0, 1, n_points)\n",
    "            midline_x, midline_y = splev(spline_samples, spline_params)\n",
    "            head = splev(0, spline_params)\n",
    "            derivative_x, derivative_y = splev(spline_samples, spline_params, der=1)\n",
    "            midline_angles = np.arctan2(derivative_x, derivative_y)\n",
    "\n",
    "            #center, (width, height), angle = cv2.fitEllipse(blob.contour)\n",
    "            #center = np.asarray(center) - blob.bbox_in_frame_coordinates[0] + 1\n",
    "            midline[frame_number,IDENTITY-1, :, 0] = midline_x+blob.bbox_in_frame_coordinates[0][0]\n",
    "            midline[frame_number,IDENTITY-1, :, 1] = midline_y+blob.bbox_in_frame_coordinates[0][1]\n",
    "        except IndexError:\n",
    "            print(f\"{IDENTITY=} in {frame_number=} not found!\")\n",
    "            continue"
   ]
  },
  {
   "cell_type": "code",
   "execution_count": 70,
   "id": "4aa18ac1",
   "metadata": {},
   "outputs": [],
   "source": [
    "import numpy as np\n",
    "from scipy.interpolate import interp1d\n",
    "\n",
    "# Example data: (N, 2) array with some (0, 0) entries\n",
    "\n",
    "# Step 1: Identify valid (non-zero) entries\n",
    "for i in range(midline.shape[1]):\n",
    "    for j in range(3):\n",
    "        validx= midline[:, i, j, 0] != 0  # Mask for valid entries (non-zero x-coordinates)\n",
    "        validy = midline[:, i, j, 1] != 0  # Mask for valid entries (non-zero y-coordinates)\n",
    "        invalidx= midline[:, i, j, 0] == 0  # Mask for invalid entries (zero x-coordinates)\n",
    "        invalidy = midline[:, i, j, 1] == 0  # Mask for invalid entries (zero y-coordinates)\n",
    "        interp_func_x = interp1d(\n",
    "            np.arange(midline.shape[0])[validx], \n",
    "            midline[validx, i, j, 0],\n",
    "            kind='linear', \n",
    "            fill_value='extrapolate'\n",
    "        )\n",
    "        interp_func_y = interp1d(\n",
    "            np.arange(midline.shape[0])[validy], \n",
    "            midline[validy, i, j, 1],\n",
    "            kind='linear', \n",
    "            fill_value='extrapolate'\n",
    "        )\n",
    "        midline[invalidx, i, j, 0] = interp_func_x(np.arange(midline.shape[0])[invalidx])\n",
    "        midline[invalidy, i, j, 1] = interp_func_y(np.arange(midline.shape[0])[invalidy])\n"
   ]
  },
  {
   "cell_type": "code",
   "execution_count": 71,
   "id": "8d0e7946",
   "metadata": {},
   "outputs": [],
   "source": [
    "np.save(\"data_midline/\"+str(NUM_FISH)+\".npy\", midline)"
   ]
  },
  {
   "cell_type": "code",
   "execution_count": 72,
   "id": "f0dc24f6",
   "metadata": {},
   "outputs": [
    {
     "name": "stderr",
     "output_type": "stream",
     "text": [
      "/tmp/ipykernel_742812/1180194905.py:28: RuntimeWarning: invalid value encountered in scalar divide\n",
      "  np.dot(v1, v2) / (np.linalg.norm(v1) * np.linalg.norm(v2)), -1, 1\n"
     ]
    }
   ],
   "source": [
    "midline=np.load('data_midline/'+str(NUM_FISH)+'.npy')\n",
    "\n",
    "def ensure_consistent_head_tail(fish_data):\n",
    "    \"\"\"\n",
    "    fish_data: numpy array of shape (N, m, k, 2), where k=3 (head, body, tail).\n",
    "    Modifies the array in-place to ensure the head is always moving forward.\n",
    "    \"\"\"\n",
    "    N, m, k, _ = fish_data.shape\n",
    "    \n",
    "    for i in range(N - 1):  # Skip last frame (no future data)\n",
    "            for j in range(m):\n",
    "                # Current body, head, and tail positions\n",
    "                curr_body = fish_data[i, j, 1]\n",
    "                curr_head = fish_data[i, j, 0]\n",
    "                curr_tail = fish_data[i, j, 2]\n",
    "                \n",
    "                # Body velocity (using next frame)\n",
    "                next_body = fish_data[i+1, j, 1]\n",
    "                body_velocity = next_body - curr_body\n",
    "                \n",
    "                # Vectors from head and tail to body\n",
    "                head_to_body =  curr_head-curr_body\n",
    "                tail_to_body =  curr_tail-curr_body \n",
    "                \n",
    "                # Compute angles (in radians)\n",
    "                def angle_between(v1, v2):\n",
    "                    return np.arccos(np.clip(\n",
    "                        np.dot(v1, v2) / (np.linalg.norm(v1) * np.linalg.norm(v2)), -1, 1\n",
    "                    ))\n",
    "                \n",
    "                angle_head = angle_between(body_velocity, head_to_body)\n",
    "                angle_tail = angle_between(body_velocity, tail_to_body)\n",
    "                \n",
    "                # If head angle is larger, swap head and tail\n",
    "                if angle_head > angle_tail:\n",
    "                    fish_data[i, j, 0], fish_data[i, j, 2] = fish_data[i, j, 2].copy(), fish_data[i, j, 0].copy()\n",
    "\n",
    "    return fish_data\n",
    "# Ensure consistent head and tail across frames\n",
    "midline = ensure_consistent_head_tail(midline)\n",
    "def ensure_consistent_head_tail(fish_data):\n",
    "    \"\"\"\n",
    "    fish_data: numpy array of shape (N, m, k, 2), where k=3 (head, body, tail).\n",
    "    Modifies the array in-place to ensure consistent head/tail labeling.\n",
    "    \"\"\"\n",
    "    N, m, k, _ = fish_data.shape\n",
    "    \n",
    "    for i in range(1, N):\n",
    "        for j in range(m):\n",
    "            # Previous head and tail (frame i-1)\n",
    "            prev_head = fish_data[i-1, j, 0]\n",
    "            prev_body = fish_data[i-1, j, 1]\n",
    "            prev_tail = fish_data[i-1, j, 2]\n",
    "            \n",
    "            # Current candidate head and tail (frame i)\n",
    "            curr_head = fish_data[i, j, 0]\n",
    "            curr_body= fish_data[i, j, 1]\n",
    "            curr_tail = fish_data[i, j, 2]\n",
    "            prev_head_to_body =  prev_head-prev_body\n",
    "            head_to_body =  curr_head-curr_body\n",
    "            tail_to_body =  curr_tail-curr_body \n",
    "            def angle_between(v1, v2):\n",
    "                return np.arccos(np.clip(\n",
    "                    np.dot(v1, v2) / (np.linalg.norm(v1) * np.linalg.norm(v2)), -1, 1\n",
    "                ))\n",
    "            # Compute distances\n",
    "            angle_head = angle_between(prev_head_to_body, head_to_body)\n",
    "            angle_tail = angle_between(prev_head_to_body, tail_to_body)\n",
    "            \n",
    "            # If curr_tail is closer to prev_head, swap head and tail\n",
    "            if angle_head > angle_tail:\n",
    "                fish_data[i, j, 0], fish_data[i, j, 2] = fish_data[i, j, 2].copy(), fish_data[i, j, 0].copy()\n",
    "\n",
    "    return fish_data\n",
    "midline = ensure_consistent_head_tail(midline)\n",
    "# Save the modified midline data\n",
    "np.save(\"data_midline/\"+str(NUM_FISH)+\"_consistent.npy\", midline)"
   ]
  }
 ],
 "metadata": {
  "kernelspec": {
   "display_name": "idtrackerai",
   "language": "python",
   "name": "python3"
  },
  "language_info": {
   "codemirror_mode": {
    "name": "ipython",
    "version": 3
   },
   "file_extension": ".py",
   "mimetype": "text/x-python",
   "name": "python",
   "nbconvert_exporter": "python",
   "pygments_lexer": "ipython3",
   "version": "3.10.18"
  }
 },
 "nbformat": 4,
 "nbformat_minor": 5
}
