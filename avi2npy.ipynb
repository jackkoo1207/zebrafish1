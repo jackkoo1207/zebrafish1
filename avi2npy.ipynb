{
 "cells": [
  {
   "cell_type": "code",
   "execution_count": 4,
   "id": "30777017",
   "metadata": {},
   "outputs": [
    {
     "name": "stdout",
     "output_type": "stream",
     "text": [
      "Video converted to numpy array with shape: (1024, 1280, 3)\n",
      "Frame rate: 24.02 fps\n"
     ]
    }
   ],
   "source": [
    "import cv2\n",
    "import numpy as np\n",
    "\n",
    "def avi_to_numpy(video_path):\n",
    "    # Open the video file\n",
    "    cap = cv2.VideoCapture(video_path)\n",
    "    \n",
    "    # Check if video opened successfully\n",
    "    if not cap.isOpened():\n",
    "        raise ValueError(\"Could not open the video file\")\n",
    "    \n",
    "    # Get video properties\n",
    "    frame_count = int(cap.get(cv2.CAP_PROP_FRAME_COUNT))\n",
    "    width = int(cap.get(cv2.CAP_PROP_FRAME_WIDTH))\n",
    "    height = int(cap.get(cv2.CAP_PROP_FRAME_HEIGHT))\n",
    "    fps = cap.get(cv2.CAP_PROP_FPS)\n",
    "    \n",
    "    # Initialize empty numpy array\n",
    "    frames = np.empty(( height, width, 3), np.dtype('uint8'))\n",
    "    \n",
    "    # Read frames into numpy array\n",
    "    for i in range(1):\n",
    "        ret, frame = cap.read()\n",
    "        if not ret:\n",
    "            break\n",
    "        frames= cv2.cvtColor(frame, cv2.COLOR_BGR2RGB)  # Convert BGR to RGB\n",
    "    \n",
    "    cap.release()\n",
    "    \n",
    "    return frames, fps\n",
    "\n",
    "# Usage\n",
    "video_path = '2.avi'\n",
    "video_frames, frame_rate = avi_to_numpy(video_path)\n",
    "\n",
    "print(f\"Video converted to numpy array with shape: {video_frames.shape}\")\n",
    "print(f\"Frame rate: {frame_rate} fps\")\n",
    "np.save('data_video/2.npy', video_frames)"
   ]
  }
 ],
 "metadata": {
  "kernelspec": {
   "display_name": "Python 3",
   "language": "python",
   "name": "python3"
  },
  "language_info": {
   "codemirror_mode": {
    "name": "ipython",
    "version": 3
   },
   "file_extension": ".py",
   "mimetype": "text/x-python",
   "name": "python",
   "nbconvert_exporter": "python",
   "pygments_lexer": "ipython3",
   "version": "3.11.9"
  }
 },
 "nbformat": 4,
 "nbformat_minor": 5
}
