{
 "cells": [
  {
   "cell_type": "code",
   "execution_count": 1,
   "id": "07a01a8e",
   "metadata": {},
   "outputs": [
    {
     "name": "stdout",
     "output_type": "stream",
     "text": [
      "Requirement already satisfied: keras-resnet in /Users/automatocti/miniconda3/envs/idtrackerai2/lib/python3.10/site-packages (0.2.0)\n",
      "Requirement already satisfied: keras>=2.2.4 in /Users/automatocti/miniconda3/envs/idtrackerai2/lib/python3.10/site-packages (from keras-resnet) (3.11.0)\n",
      "Requirement already satisfied: absl-py in /Users/automatocti/miniconda3/envs/idtrackerai2/lib/python3.10/site-packages (from keras>=2.2.4->keras-resnet) (2.3.1)\n",
      "Requirement already satisfied: numpy in /Users/automatocti/miniconda3/envs/idtrackerai2/lib/python3.10/site-packages (from keras>=2.2.4->keras-resnet) (2.0.1)\n",
      "Requirement already satisfied: rich in /Users/automatocti/miniconda3/envs/idtrackerai2/lib/python3.10/site-packages (from keras>=2.2.4->keras-resnet) (14.1.0)\n",
      "Requirement already satisfied: namex in /Users/automatocti/miniconda3/envs/idtrackerai2/lib/python3.10/site-packages (from keras>=2.2.4->keras-resnet) (0.1.0)\n",
      "Requirement already satisfied: h5py in /Users/automatocti/miniconda3/envs/idtrackerai2/lib/python3.10/site-packages (from keras>=2.2.4->keras-resnet) (3.14.0)\n",
      "Requirement already satisfied: optree in /Users/automatocti/miniconda3/envs/idtrackerai2/lib/python3.10/site-packages (from keras>=2.2.4->keras-resnet) (0.17.0)\n",
      "Requirement already satisfied: ml-dtypes in /Users/automatocti/miniconda3/envs/idtrackerai2/lib/python3.10/site-packages (from keras>=2.2.4->keras-resnet) (0.5.3)\n",
      "Requirement already satisfied: packaging in /Users/automatocti/miniconda3/envs/idtrackerai2/lib/python3.10/site-packages (from keras>=2.2.4->keras-resnet) (25.0)\n",
      "Requirement already satisfied: typing-extensions>=4.6.0 in /Users/automatocti/miniconda3/envs/idtrackerai2/lib/python3.10/site-packages (from optree->keras>=2.2.4->keras-resnet) (4.12.2)\n",
      "Requirement already satisfied: markdown-it-py>=2.2.0 in /Users/automatocti/miniconda3/envs/idtrackerai2/lib/python3.10/site-packages (from rich->keras>=2.2.4->keras-resnet) (3.0.0)\n",
      "Requirement already satisfied: pygments<3.0.0,>=2.13.0 in /Users/automatocti/miniconda3/envs/idtrackerai2/lib/python3.10/site-packages (from rich->keras>=2.2.4->keras-resnet) (2.19.2)\n",
      "Requirement already satisfied: mdurl~=0.1 in /Users/automatocti/miniconda3/envs/idtrackerai2/lib/python3.10/site-packages (from markdown-it-py>=2.2.0->rich->keras>=2.2.4->keras-resnet) (0.1.2)\n"
     ]
    }
   ],
   "source": [
    "#download libraries if not already installed\n",
    "try:\n",
    "    import numpy as np\n",
    "    import matplotlib.pyplot as plt\n",
    "    import matplotlib.animation as animation\n",
    "except ImportError:\n",
    "    import os\n",
    "    os.system('pip install numpy matplotlib')\n",
    "\n",
    "try:\n",
    "    import keras\n",
    "    from keras.models import resnet\n",
    "except ImportError:\n",
    "    import os\n",
    "    os.system(' pip install keras-resnet ')\n",
    "\n",
    "try:\n",
    "    import tensorflow as tf\n",
    "except ImportError:\n",
    "    import os\n",
    "    os.system('pip install tensorflow')"
   ]
  },
  {
   "cell_type": "markdown",
   "id": "b675e064",
   "metadata": {},
   "source": [
    "# preprocessing"
   ]
  },
  {
   "cell_type": "code",
   "execution_count": 2,
   "id": "143eb8ae",
   "metadata": {},
   "outputs": [],
   "source": [
    "import numpy as np\n",
    "import matplotlib.pyplot as plt\n",
    "#Plot the animation\n",
    "from matplotlib.animation import FuncAnimation\n",
    "from tqdm import tqdm\n",
    "pos=np.load('data_npy/100_3.npy')\n",
    "vid=np.load('data_video/100_3.npy')\n",
    "midline=np.load('data_midline/100_3_consistent.npy')\n",
    "velocity =midline[1:,:,1,:]-midline[:-1,:,1,:]\n",
    "head=midline[:,:,0,:]-midline[:,:,1,:]\n",
    "tail=midline[:,:,2,:]-midline[:,:,1,:]\n",
    "\n",
    "phi= np.arctan2(head[:,:,1], head[:,:,0])\n",
    "# angular_speed= angle_between_2vec(head[1:,:,:], head[:-1,:,:], axis=2) \n",
    "L1=np.linalg.norm(head, axis=2)\n",
    "L2=np.linalg.norm(tail, axis=2)\n",
    "Observer_index=0\n",
    "R=500\n",
    "Observed_vector=midline[:,None,:,1,:]-midline[:,:,None,1,:]\n",
    "Observed_distance=np.linalg.norm(Observed_vector, axis=3)\n",
    "# Observed_phi=angle_between_2vec(head[:,:,None,:], Observed_vector, axis=3)\n",
    "Observed_index=Observed_distance<=R"
   ]
  },
  {
   "cell_type": "markdown",
   "id": "731d1506",
   "metadata": {},
   "source": [
    "## getting observation"
   ]
  },
  {
   "cell_type": "code",
   "execution_count": 3,
   "id": "8686cc4b",
   "metadata": {},
   "outputs": [
    {
     "name": "stdout",
     "output_type": "stream",
     "text": [
      "midline.shape: (19526, 100, 3, 2)\n",
      "obs_maps.shape: (19526, 100, 4, 64, 64)\n",
      "obs_maps_single_frame.shape: (100, 4, 64, 64)\n"
     ]
    }
   ],
   "source": [
    "#get shape of midline\n",
    "print(\"midline.shape:\", midline.shape)\n",
    "\n",
    "# initialize the observation map\n",
    "grid_size = 64\n",
    "N = midline.shape[1]\n",
    "T = midline.shape[0]\n",
    "boundaries_radius = 3500/2\n",
    "def initialize_observation_maps_allFrame(N, T, grid_size):\n",
    "    # Initialize the observation maps for all frames\n",
    "    obs_maps = np.zeros((T, N, 4, grid_size, grid_size))\n",
    "    return obs_maps\n",
    "def initialize_observation_maps(N, grid_size):\n",
    "    # Initialize the observation maps in a single frame\n",
    "    obs_maps = np.zeros((N, 4, grid_size, grid_size))\n",
    "    return obs_maps\n",
    "\n",
    "# initialize the observation maps for all frames for training\n",
    "obs_maps = initialize_observation_maps_allFrame(N, T, grid_size)\n",
    "print(\"obs_maps.shape:\", obs_maps.shape)\n",
    "\n",
    "# test observation maps for a single frame (e.g., frame 0)\n",
    "obs_maps_single_frame = initialize_observation_maps(N, grid_size)\n",
    "print(\"obs_maps_single_frame.shape:\", obs_maps_single_frame.shape)"
   ]
  },
  {
   "cell_type": "markdown",
   "id": "4639ad0c",
   "metadata": {},
   "source": [
    "### observe other fish"
   ]
  },
  {
   "cell_type": "code",
   "execution_count": 4,
   "id": "b072df16",
   "metadata": {},
   "outputs": [],
   "source": [
    "def get_observed_fish_singleFrame(midline, R, obs_maps_singleFrame):\n",
    "    # assume here midline.shape = (N, 3, 2)\n",
    "    grid_size = obs_maps_singleFrame.shape[2]\n",
    "    N = obs_maps_singleFrame.shape[0]  # assume obs_maps_singleFrame.shape[0] = N\n",
    "    \n",
    "    #shape of obs_vector: (N,N,3,2)\n",
    "    obs_vector = np.zeros((N, N, 3, 2), dtype=np.float32)\n",
    "    #first dimension is the observer\n",
    "    #second dimension is the observed fish, for each observed, we calculate the vector from (head, tail, center) of the observed fish to the observer's head\n",
    "    obs_vector[:, :, [0, 1, 2], :] = midline[:,None, [0, 0, 0], :] - midline[None, :, [0, 1, 2], :]\n",
    "\n",
    "    # get the distance and angle\n",
    "    obs_distance = np.linalg.norm(obs_vector, axis=3)  # shape: (N, N, 3)\n",
    "    obs_phi = np.arctan2(obs_vector[:, :, :, 1], obs_vector[:, :, :, 0])  # shape: (N, N, 3)\n",
    "\n",
    "\n",
    "    # check if the distance is within the radius R\n",
    "    obs_index = obs_distance <= R\n",
    "    # if within the radius, digitize the distance and angle with grid_size and put the value in the observation map\n",
    "    obs_distance_digitized = np.clip((obs_distance / R) * grid_size, 0, grid_size - 1).astype(int)\n",
    "    obs_phi_digitized = np.clip((obs_phi + np.pi) / (2 * np.pi) * grid_size, 0, grid_size - 1).astype(int)\n",
    "    # fill the observation map\n",
    "    # Broadcasting version: update obs_maps_singleFrame for all valid observations at once\n",
    "    # obs_index shape: (N, N, 3)\n",
    "    idx = np.where(obs_index)\n",
    "    #print(\"idx:\", idx)  # idx will have three arrays: one for each dimension\n",
    "    # idx[0] is the observer index, idx[1] is the observed fish, idx[2] is the body part (head, tail, center)\n",
    "    obs_maps_singleFrame[idx[0], idx[2], obs_distance_digitized[idx], obs_phi_digitized[idx]] = 1\n",
    "    return obs_maps_singleFrame\n",
    "\n",
    "def get_observed_fish_allFrame(midline, R, obs_maps):\n",
    "    \"\"\" #output: obs_maps.shape = (T, N, 4, grid_size, grid_size)\n",
    "    # assume here midline.shape = (T, N, 3, 2)\n",
    "    grid_size = obs_maps.shape[3]\n",
    "    N = obs_maps.shape[1] #assume obs_maps.shape[1] = N\n",
    "    T = obs_maps.shape[0] #assume obs_maps.shape[0] = T\n",
    "    \n",
    "    #shape of obs_vector: (T, N, N, 3, 2)\n",
    "    obs_vector = np.zeros((T, N, N, 3, 2), dtype=np.float32)\n",
    "    obs_vector[:, :, :, [0, 1, 2], :] = midline[:, :, None, [0, 0, 0], :] - midline[:, None, :, [0, 1, 2], :]\n",
    "\n",
    "    # get the distance and angle\n",
    "    obs_distance = np.linalg.norm(obs_vector, axis=4)  # shape: (T, N, N, 3)\n",
    "    obs_phi = np.arctan2(obs_vector[:, :, :, :, 1], obs_vector[:, :, :, :, 0])  # shape: (T, N, N, 3)\n",
    "    # check if the distance is within the radius R\n",
    "    obs_index = obs_distance <= R\n",
    "    # if within the radius, digitize the distance and angle with grid_size and put the value in the observation map\n",
    "    obs_distance_digitized = np.clip((obs_distance / R) * grid_size, 0, grid_size - 1).astype(int)\n",
    "    obs_phi_digitized = np.clip((obs_phi + np.pi) / (2 * np.pi) * grid_size, 0, grid_size - 1).astype(int)\n",
    "    # fill the observation map\n",
    "    # Broadcasting version: update obs_maps for all valid observations at once\n",
    "    idx = np.where(obs_index)\n",
    "    #print(\"idx:\", idx)  # idx will have three arrays: one for each dimension\n",
    "    # idx[0] is the time index, idx[1] is the observer index, idx[2] is the observed fish, idx[3] is the body part (head, tail, center)\n",
    "    obs_maps[idx[0], idx[1], idx[3], obs_distance_digitized[idx], obs_phi_digitized[idx]] = 1    \"\"\"\n",
    "    #above code may use too many RAM due to large boardcasting\n",
    "    #use a slower version:\n",
    "    T = obs_maps.shape[0] #assume obs_maps.shape[0] = T\n",
    "    for t in tqdm(range(T)):\n",
    "        obs_maps[t] = get_observed_fish_singleFrame(midline[t], R, obs_maps[t])\n",
    "\n",
    "    return obs_maps"
   ]
  },
  {
   "cell_type": "code",
   "execution_count": null,
   "id": "a099c8fa",
   "metadata": {},
   "outputs": [
    {
     "data": {
      "image/png": "[encoded data removed]",
      "text/plain": [
       "<Figure size 1500x500 with 3 Axes>"
      ]
     },
     "metadata": {},
     "output_type": "display_data"
    },
    {
     "name": "stdout",
     "output_type": "stream",
     "text": [
      "obs_maps_singleFrame_stacked.shape: (100, 64, 64)\n"
     ]
    },
    {
     "data": {
      "image/png": "[encoded data removed]",
      "text/plain": [
       "<Figure size 640x480 with 1 Axes>"
      ]
     },
     "metadata": {},
     "output_type": "display_data"
    },
    {
     "ename": "",
     "evalue": "",
     "output_type": "error",
     "traceback": [
      "\u001b[1;31m在目前儲存格或上一個儲存格中執行程式碼時，Kernel 已損毀。\n",
      "\u001b[1;31m請檢閱儲存格中的程式碼，找出失敗的可能原因。\n",
      "\u001b[1;31m如需詳細資訊，請按一下<a href='https://aka.ms/vscodeJupyterKernelCrash'>這裡</a>。\n",
      "\u001b[1;31m如需詳細資料，請檢視 Jupyter <a href='command:jupyter.viewOutput'>記錄</a>。"
     ]
    }
   ],
   "source": [
    "# Test get_observed_fish_singleFrame\n",
    "obs_maps_singleFrame = get_observed_fish_singleFrame(midline[0], R, obs_maps_single_frame)\n",
    "\n",
    "# Plot the observation map for the first frame of index 10 as observer\n",
    "# 3 sub-figures need to be plotted: head, tail, center into 1 plot\n",
    "fig, axes = plt.subplots(1, 3, figsize=(15, 5))\n",
    "\n",
    "# Head Observations\n",
    "axes[0].imshow(obs_maps_singleFrame[10, 0, :, :], cmap='hot', interpolation='nearest')\n",
    "axes[0].set_title('Head Observations')\n",
    "axes[0].set_xlabel('Angle (digitized)')\n",
    "axes[0].set_ylabel('Distance (digitized)')\n",
    "\n",
    "# Center Observations\n",
    "axes[1].imshow(obs_maps_singleFrame[10, 1, :, :], cmap='hot', interpolation='nearest')\n",
    "axes[1].set_title('Center Observations')\n",
    "axes[1].set_xlabel('Angle (digitized)')\n",
    "axes[1].set_ylabel('Distance (digitized)')\n",
    "\n",
    "# Tail Observations\n",
    "axes[2].imshow(obs_maps_singleFrame[10, 2, :, :], cmap='hot', interpolation='nearest')\n",
    "axes[2].set_title('Tail Observations')\n",
    "axes[2].set_xlabel('Angle (digitized)')\n",
    "axes[2].set_ylabel('Distance (digitized)')\n",
    "\n",
    "plt.tight_layout()  # Adjust layout for better spacing\n",
    "plt.show()\n",
    "\n",
    "# Stack the 3 observation maps into one\n",
    "obs_maps_singleFrame_stacked = np.sum(obs_maps_singleFrame, axis=1)\n",
    "obs_maps_singleFrame_stacked = np.where(obs_maps_singleFrame_stacked > 1, 1, obs_maps_singleFrame_stacked)  # Binarize the stacked map\n",
    "print(\"obs_maps_singleFrame_stacked.shape:\", obs_maps_singleFrame_stacked.shape)\n",
    "\n",
    "# Plot the stacked observation map\n",
    "plt.imshow(obs_maps_singleFrame_stacked[10], cmap='hot', interpolation='nearest')\n",
    "plt.title('Stacked Observations')\n",
    "plt.xlabel('Angle (digitized)')\n",
    "plt.ylabel('Distance (digitized)')\n",
    "plt.show()"
   ]
  },
  {
   "cell_type": "code",
   "execution_count": null,
   "id": "ae419737",
   "metadata": {},
   "outputs": [
    {
     "name": "stderr",
     "output_type": "stream",
     "text": [
      "  0%|          | 0/19526 [00:00<?, ?it/s]"
     ]
    },
    {
     "name": "stderr",
     "output_type": "stream",
     "text": [
      " 15%|█▍        | 2902/19526 [00:05<00:28, 589.44it/s]"
     ]
    }
   ],
   "source": [
    "#test the function for all frames\n",
    "obs_maps = get_observed_fish_allFrame(midline, R, obs_maps)\n",
    "# Plot the observation map for the first frame of index 10 as observer\n",
    "# 3 sub-figures need to be plotted: head, tail, center into 1 plot\n",
    "fig, axes = plt.subplots(1, 3, figsize=(15, 5))\n",
    "# Head Observations\n",
    "axes[0].imshow(obs_maps[0,10, 0, :, :], cmap='hot', interpolation='nearest')\n",
    "axes[0].set_title('Head Observations')\n",
    "axes[0].set_xlabel('Angle (digitized)')\n",
    "axes[0].set_ylabel('Distance (digitized)')  \n",
    "# Center Observations\n",
    "axes[1].imshow(obs_maps[0,10, 1, :, :], cmap='hot', interpolation='nearest')\n",
    "axes[1].set_title('Center Observations')\n",
    "axes[1].set_xlabel('Angle (digitized)')\n",
    "axes[1].set_ylabel('Distance (digitized)')\n",
    "# Tail Observations\n",
    "axes[2].imshow(obs_maps[0,10, 2, :, :], cmap='hot', interpolation='nearest')\n",
    "axes[2].set_title('Tail Observations')\n",
    "axes[2].set_xlabel('Angle (digitized)')\n",
    "axes[2].set_ylabel('Distance (digitized)')\n",
    "plt.tight_layout()  # Adjust layout for better spacing\n",
    "plt.show()\n",
    "\n",
    "#stack the 3 observation maps into one\n",
    "obs_maps_stacked = np.sum(obs_maps, axis=1)\n",
    "obs_maps_stacked = np.where(obs_maps_stacked > 1, 1, obs_maps_stacked)  # Binarize the stacked map\n",
    "print(\"obs_maps_stacked.shape:\", obs_maps_stacked.shape)    \n",
    "# Plot the stacked observation map\n",
    "plt.imshow(obs_maps_stacked[0,10], cmap='hot', interpolation='nearest')\n",
    "plt.title('Stacked Observations')\n",
    "plt.xlabel('Angle (digitized)')\n",
    "plt.ylabel('Distance (digitized)')\n",
    "plt.show()"
   ]
  },
  {
   "cell_type": "markdown",
   "id": "834df541",
   "metadata": {},
   "source": [
    "### observe boundaries"
   ]
  },
  {
   "cell_type": "code",
   "execution_count": null,
   "id": "9594b1d9",
   "metadata": {},
   "outputs": [],
   "source": []
  },
  {
   "cell_type": "code",
   "execution_count": null,
   "id": "871123e8",
   "metadata": {},
   "outputs": [],
   "source": []
  },
  {
   "cell_type": "markdown",
   "id": "b42bc635",
   "metadata": {},
   "source": [
    "## prepare data"
   ]
  },
  {
   "cell_type": "code",
   "execution_count": null,
   "id": "224246a7",
   "metadata": {},
   "outputs": [],
   "source": []
  },
  {
   "cell_type": "markdown",
   "id": "0a51d94a",
   "metadata": {},
   "source": [
    "# training"
   ]
  },
  {
   "cell_type": "markdown",
   "id": "b2f1e32f",
   "metadata": {},
   "source": [
    "## model structure"
   ]
  },
  {
   "cell_type": "code",
   "execution_count": null,
   "id": "aa74b6b4",
   "metadata": {},
   "outputs": [],
   "source": []
  },
  {
   "cell_type": "markdown",
   "id": "64f4ce53",
   "metadata": {},
   "source": [
    "## train"
   ]
  }
 ],
 "metadata": {
  "kernelspec": {
   "display_name": "idtrackerai2",
   "language": "python",
   "name": "python3"
  },
  "language_info": {
   "codemirror_mode": {
    "name": "ipython",
    "version": 3
   },
   "file_extension": ".py",
   "mimetype": "text/x-python",
   "name": "python",
   "nbconvert_exporter": "python",
   "pygments_lexer": "ipython3",
   "version": "3.10.18"
  }
 },
 "nbformat": 4,
 "nbformat_minor": 5
}
